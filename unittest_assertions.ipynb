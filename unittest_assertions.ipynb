{
  "nbformat": 4,
  "nbformat_minor": 0,
  "metadata": {
    "colab": {
      "provenance": [],
      "authorship_tag": "ABX9TyPW91h6zKaEqkiIqpR+3RCe",
      "include_colab_link": true
    },
    "kernelspec": {
      "name": "python3",
      "display_name": "Python 3"
    },
    "language_info": {
      "name": "python"
    }
  },
  "cells": [
    {
      "cell_type": "markdown",
      "metadata": {
        "id": "view-in-github",
        "colab_type": "text"
      },
      "source": [
        "<a href=\"https://colab.research.google.com/github/rpalsaxena/unit-testing/blob/main/unittest_assertions.ipynb\" target=\"_parent\"><img src=\"https://colab.research.google.com/assets/colab-badge.svg\" alt=\"Open In Colab\"/></a>"
      ]
    },
    {
      "cell_type": "markdown",
      "source": [
        "### Exercise 1\n",
        "The following `calculate_daily_return()` function is given, which takes two arguments: open and close (open and close price of a financial instrument from a trading session). The function returns the value of the daily rate of return (in percent).\n",
        "```\n",
        "def calculate_daily_return(open, close):\n",
        "    return round((close / open - 1) * 100, 2)\n",
        "```\n",
        "\n",
        "Complete the implementation of the TestCalculateDailyReturn  class by adding three test methods:\n",
        "```\n",
        "test_positive_return()\n",
        "```\n",
        "using the method assertEqual check if code\n",
        "calculate_daily_return(349.0, 360.0) returns the daily rate of return 3.15\n",
        "\n",
        "```\n",
        "test_negative_return()\n",
        "```\n",
        "using the method assertEqual check if code\n",
        "calculate_daily_return(349.0, 340.0) returns the daily rate of return -2.58\n",
        "\n",
        "```\n",
        "test_zero_return()\n",
        "```\n",
        "using the method assertEqual check if code\n",
        "calculate_daily_return(349.0, 349.0) returns the daily rate of return 0.0\n",
        "\n",
        "\n",
        "\n",
        "You only need to implement test methods. During the solution verification, the tests are run and in case of any errors, the test report will be printed to the console."
      ],
      "metadata": {
        "id": "BIfjG1dTa1tE"
      }
    },
    {
      "cell_type": "code",
      "execution_count": 6,
      "metadata": {
        "id": "_DXq0b2yavRI"
      },
      "outputs": [],
      "source": [
        "import unittest\n",
        " \n",
        "def calculate_daily_return(open, close):\n",
        "    return round((close / open - 1) * 100, 2)\n",
        " \n",
        "class TestCalculateDailyReturn(unittest.TestCase):\n",
        "  def test_positive_return(self):\n",
        "    self.assertEqual(calculate_daily_return(349.0, 360.0), 3.15)\n",
        "  \n",
        "  def test_negative_return(self):\n",
        "    self.assertEqual(calculate_daily_return(349.0, 340.0), -2.58)\n",
        "   \n",
        "  def test_zero_return(self):\n",
        "    self.assertEqual(calculate_daily_return(349.0, 349.0), 0.0)"
      ]
    },
    {
      "cell_type": "markdown",
      "source": [
        "### Exercise 2\n",
        "The following calculate_daily_return() function is given, which takes two arguments: open and close (open and close price of a financial instrument from a trading session). The function returns the value of the daily rate of return.\n",
        "\n",
        "```\n",
        "def calculate_daily_return(open, close):\n",
        "    return (close / open - 1) * 100\n",
        "```\n",
        "Complete the implementation of the TestCalculateDailyReturn class by adding three test methods:\n",
        "```\n",
        "test_positive_return()\n",
        "```\n",
        "using the method assertAlmostEqual  check if code calculate_daily_return(349.0, 360.0) returns the appropriate value\n",
        "\n",
        "```\n",
        "test_negative_return()\n",
        "```\n",
        "using the method assertAlmostEqual check if code calculate_daily_return(349.0, 340.0) returns the appropriate value\n",
        "\n",
        "```\n",
        "test_zero_return()\n",
        "```\n",
        "using the method assertAlmostEqual check if code calculate_daily_return(349.0, 349.0) returns the appropriate value\n",
        "\n",
        "Note: Note how the assertAlmostEqual method works.\n",
        "\n",
        "\n",
        "\n",
        "You only need to implement test methods. During the solution verification, the tests are run and in case of any errors, the test report will be printed to the console.\n",
        "\n"
      ],
      "metadata": {
        "id": "fJ842z_ddwpJ"
      }
    },
    {
      "cell_type": "code",
      "source": [
        "def calculate_daily_return(open, close):\n",
        "    return (close / open - 1) * 100"
      ],
      "metadata": {
        "id": "inv16hdkdciw"
      },
      "execution_count": 7,
      "outputs": []
    },
    {
      "cell_type": "code",
      "source": [
        "class TestCalculateDailyReturn(unittest.TestCase):\n",
        "  def test_positive_return(self):\n",
        "        self.assertAlmostEqual(\n",
        "\n",
        "            calculate_daily_return(349, 360), 3.1518625\n",
        "        )\n",
        " \n",
        "  def test_negative_return(self):\n",
        "        self.assertAlmostEqual(\n",
        "            calculate_daily_return(349, 340), -2.5787966\n",
        "        )\n",
        "   \n",
        "  def test_zero_return(self):\n",
        "    self.assertAlmostEqual(calculate_daily_return(349.0, 349.0), 0.0)"
      ],
      "metadata": {
        "id": "dFOCbWPYd91A"
      },
      "execution_count": 17,
      "outputs": []
    },
    {
      "cell_type": "code",
      "source": [
        "t1 = TestCalculateDailyReturn()\n",
        "t1.test_zero_return()"
      ],
      "metadata": {
        "id": "qUt3WxQNeQy9"
      },
      "execution_count": 18,
      "outputs": []
    },
    {
      "cell_type": "code",
      "source": [
        "t1.test_negative_return()"
      ],
      "metadata": {
        "id": "jh8r-SYXeXGO"
      },
      "execution_count": 19,
      "outputs": []
    },
    {
      "cell_type": "code",
      "source": [
        "t1.test_positive_return()"
      ],
      "metadata": {
        "id": "7y-FFfcGeZ6o"
      },
      "execution_count": 20,
      "outputs": []
    },
    {
      "cell_type": "code",
      "source": [],
      "metadata": {
        "id": "4DvZ3cdsejdn"
      },
      "execution_count": null,
      "outputs": []
    }
  ]
}