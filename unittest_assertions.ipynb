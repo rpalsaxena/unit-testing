{
  "nbformat": 4,
  "nbformat_minor": 0,
  "metadata": {
    "colab": {
      "provenance": [],
      "collapsed_sections": [],
      "authorship_tag": "ABX9TyOkK98/+cw6FODaVjOvlpcq",
      "include_colab_link": true
    },
    "kernelspec": {
      "name": "python3",
      "display_name": "Python 3"
    },
    "language_info": {
      "name": "python"
    }
  },
  "cells": [
    {
      "cell_type": "markdown",
      "metadata": {
        "id": "view-in-github",
        "colab_type": "text"
      },
      "source": [
        "<a href=\"https://colab.research.google.com/github/rpalsaxena/unit-testing/blob/main/unittest_assertions.ipynb\" target=\"_parent\"><img src=\"https://colab.research.google.com/assets/colab-badge.svg\" alt=\"Open In Colab\"/></a>"
      ]
    },
    {
      "cell_type": "markdown",
      "source": [
        "### Exercise 1\n",
        "The following `calculate_daily_return()` function is given, which takes two arguments: open and close (open and close price of a financial instrument from a trading session). The function returns the value of the daily rate of return (in percent).\n",
        "```\n",
        "def calculate_daily_return(open, close):\n",
        "    return round((close / open - 1) * 100, 2)\n",
        "```\n",
        "\n",
        "Complete the implementation of the TestCalculateDailyReturn  class by adding three test methods:\n",
        "```\n",
        "test_positive_return()\n",
        "```\n",
        "using the method assertEqual check if code\n",
        "calculate_daily_return(349.0, 360.0) returns the daily rate of return 3.15\n",
        "\n",
        "```\n",
        "test_negative_return()\n",
        "```\n",
        "using the method assertEqual check if code\n",
        "calculate_daily_return(349.0, 340.0) returns the daily rate of return -2.58\n",
        "\n",
        "```\n",
        "test_zero_return()\n",
        "```\n",
        "using the method assertEqual check if code\n",
        "calculate_daily_return(349.0, 349.0) returns the daily rate of return 0.0\n",
        "\n",
        "\n",
        "\n",
        "You only need to implement test methods. During the solution verification, the tests are run and in case of any errors, the test report will be printed to the console."
      ],
      "metadata": {
        "id": "BIfjG1dTa1tE"
      }
    },
    {
      "cell_type": "code",
      "execution_count": 2,
      "metadata": {
        "id": "_DXq0b2yavRI"
      },
      "outputs": [],
      "source": [
        "import unittest\n",
        " \n",
        "def calculate_daily_return(open, close):\n",
        "    return round((close / open - 1) * 100, 2)\n",
        " \n",
        "class TestCalculateDailyReturn(unittest.TestCase):\n",
        "  def test_positive_return(self):\n",
        "    self.assertEqual(calculate_daily_return(349.0, 360.0), 3.15)\n",
        "  \n",
        "  def test_negative_return(self):\n",
        "    self.assertEqual(calculate_daily_return(349.0, 340.0), -2.58)\n",
        "   \n",
        "  def test_zero_return(self):\n",
        "    self.assertEqual(calculate_daily_return(349.0, 349.0), 0.0)"
      ]
    },
    {
      "cell_type": "markdown",
      "source": [
        "### Exercise 2\n",
        "The following calculate_daily_return() function is given, which takes two arguments: open and close (open and close price of a financial instrument from a trading session). The function returns the value of the daily rate of return.\n",
        "\n",
        "```\n",
        "def calculate_daily_return(open, close):\n",
        "    return (close / open - 1) * 100\n",
        "```\n",
        "Complete the implementation of the TestCalculateDailyReturn class by adding three test methods:\n",
        "```\n",
        "test_positive_return()\n",
        "```\n",
        "using the method assertAlmostEqual  check if code calculate_daily_return(349.0, 360.0) returns the appropriate value\n",
        "\n",
        "```\n",
        "test_negative_return()\n",
        "```\n",
        "using the method assertAlmostEqual check if code calculate_daily_return(349.0, 340.0) returns the appropriate value\n",
        "\n",
        "```\n",
        "test_zero_return()\n",
        "```\n",
        "using the method assertAlmostEqual check if code calculate_daily_return(349.0, 349.0) returns the appropriate value\n",
        "\n",
        "Note: Note how the assertAlmostEqual method works.\n",
        "\n",
        "\n",
        "\n",
        "You only need to implement test methods. During the solution verification, the tests are run and in case of any errors, the test report will be printed to the console.\n",
        "\n"
      ],
      "metadata": {
        "id": "fJ842z_ddwpJ"
      }
    },
    {
      "cell_type": "code",
      "source": [
        "def calculate_daily_return(open, close):\n",
        "    return (close / open - 1) * 100"
      ],
      "metadata": {
        "id": "inv16hdkdciw"
      },
      "execution_count": 3,
      "outputs": []
    },
    {
      "cell_type": "code",
      "source": [
        "class TestCalculateDailyReturn(unittest.TestCase):\n",
        "  def test_positive_return(self):\n",
        "        self.assertAlmostEqual(\n",
        "\n",
        "            calculate_daily_return(349, 360), 3.1518625\n",
        "        )\n",
        " \n",
        "  def test_negative_return(self):\n",
        "        self.assertAlmostEqual(\n",
        "            calculate_daily_return(349, 340), -2.5787966\n",
        "        )\n",
        "   \n",
        "  def test_zero_return(self):\n",
        "    self.assertAlmostEqual(calculate_daily_return(349.0, 349.0), 0.0)"
      ],
      "metadata": {
        "id": "dFOCbWPYd91A"
      },
      "execution_count": 4,
      "outputs": []
    },
    {
      "cell_type": "code",
      "source": [
        "t1 = TestCalculateDailyReturn()\n",
        "t1.test_zero_return()"
      ],
      "metadata": {
        "id": "qUt3WxQNeQy9"
      },
      "execution_count": 5,
      "outputs": []
    },
    {
      "cell_type": "code",
      "source": [
        "t1.test_negative_return()"
      ],
      "metadata": {
        "id": "jh8r-SYXeXGO"
      },
      "execution_count": 6,
      "outputs": []
    },
    {
      "cell_type": "code",
      "source": [
        "t1.test_positive_return()"
      ],
      "metadata": {
        "id": "7y-FFfcGeZ6o"
      },
      "execution_count": 7,
      "outputs": []
    },
    {
      "cell_type": "markdown",
      "source": [
        "### Exercise 3\n",
        "The following Doc class is given:\n",
        "```\n",
        "class Doc:\n",
        "    def __init__(self, string):\n",
        "        self.string = string\n",
        "    def __repr__(self):\n",
        "        return f\"Doc(string='{self.string}')\"\n",
        "    def __lt__(self, other):\n",
        "        return len(self.string) < len(other.string)\n",
        "```\n",
        "Using the unittest framework create a TestDoc class that inherits from the unittest.TestCase class that implements two test methods:\n",
        "```\n",
        "test_less_than()\n",
        "```\n",
        "checks if doc2 < doc1 - use the assertLess() method for this purpose\n",
        "\n",
        "checks if doc3 < doc1 - use the assertLess() method for this purpose\n",
        "\n",
        "```\n",
        "test_greater_than()\n",
        "```\n",
        "checks if doc1 > doc2 - use the assertGreater() method for this purpose\n",
        "\n",
        "checks if doc1 > doc3 - use the assertGreater() method for this purpose\n",
        "\n",
        "Where doc1, doc2, doc3 are instances of Doc class, respectively:\n",
        "\n",
        "```\n",
        "doc1 = Doc('Technology')\n",
        "doc2 = Doc('Online')\n",
        "doc3 = Doc('Nature')\n",
        "```\n",
        "\n",
        "You only need to implement the class and the appropriate test methods. During the solution verification, the tests are run and in case of any errors, the test report will be printed to the console.\n",
        "\n"
      ],
      "metadata": {
        "id": "Gr5bA_3AH2KO"
      }
    },
    {
      "cell_type": "code",
      "source": [
        "class Doc:\n",
        "    def __init__(self, string):\n",
        "        self.string = string\n",
        "    def __repr__(self):\n",
        "        return f\"Doc(string='{self.string}')\"\n",
        "    def __lt__(self, other):\n",
        "        return len(self.string) < len(other.string)"
      ],
      "metadata": {
        "id": "4DvZ3cdsejdn"
      },
      "execution_count": 8,
      "outputs": []
    },
    {
      "cell_type": "code",
      "source": [
        "doc1 = Doc('Technology')\n",
        "doc2 = Doc('Online')\n",
        "doc3 = Doc('Nature')"
      ],
      "metadata": {
        "id": "X1gsylvJIdNl"
      },
      "execution_count": 17,
      "outputs": []
    },
    {
      "cell_type": "code",
      "source": [
        "doc1 = Doc('Technology')\n",
        "doc2 = Doc('Online')\n",
        "doc3 = Doc('Nature')\n",
        "class TestDoc(unittest.TestCase):\n",
        "  def test_less_than(self):\n",
        "    self.assertLess(doc2, doc1)\n",
        "    self.assertLess(doc3, doc1)\n",
        "  \n",
        "  def test_greater_than(self):\n",
        "\n",
        "    self.assertGreater(doc1, doc2)\n",
        "    self.assertGreater(doc1, doc3)"
      ],
      "metadata": {
        "id": "brCUaxQmIMJF"
      },
      "execution_count": 22,
      "outputs": []
    },
    {
      "cell_type": "code",
      "source": [
        "t1 = TestDoc()\n",
        "t1.test_less_than()"
      ],
      "metadata": {
        "id": "d39fL4vTI6UJ"
      },
      "execution_count": 23,
      "outputs": []
    },
    {
      "cell_type": "markdown",
      "source": [
        "### Exercise 4\n",
        "The following Doc class is given:\n",
        "```\n",
        "class Doc:\n",
        "    def __init__(self, string):\n",
        "        self.string = string\n",
        "    def __repr__(self):\n",
        "        return f\"Doc(string='{self.string}')\"\n",
        "    def __eq__(self, other):\n",
        "        return len(self.string) == len(other.string)\n",
        "```\n",
        "Using the unittest framework create a TestDoc class that inherits from the unittest.TestCase class that implements two test methods:\n",
        "```\n",
        "test_equal()\n",
        "```\n",
        "checks if doc1 == doc2 use the assertEqual() method for this purpose\n",
        "\n",
        "```\n",
        "test_not_equal()\n",
        "```\n",
        "checks if doc3 != doc1 use the assertNotEqual() method for this purpose\n",
        "\n",
        "checks if doc3 != doc2 use the assertNotEqual() method for this purpose\n",
        "\n",
        "Where doc1, doc2, doc3 are instances of Doc class, respectively:\n",
        "\n",
        "\n",
        "```\n",
        "doc1 = Doc('Online')\n",
        "doc2 = Doc('Nature')\n",
        "doc3 = Doc('Technology')\n",
        "```\n",
        "\n",
        "You only need to implement the class and the appropriate test methods. During the solution verification, the tests are run and in case of any errors, the test report will be printed to the console.\n",
        "\n",
        "\n",
        "\n",
        "\n"
      ],
      "metadata": {
        "id": "Iy-OAOhXJlxt"
      }
    },
    {
      "cell_type": "code",
      "source": [
        "class TestDoc(unittest.TestCase):\n",
        "  def test_equal(self):\n",
        "    self.assertEqual(doc1, doc2)\n",
        "  \n",
        "  def test_not_equal(self):\n",
        "    self.assertNotEqual(doc3, doc2)\n",
        "    self.assertNotEqual(doc3, doc1)"
      ],
      "metadata": {
        "id": "o-gB-c9vJAj6"
      },
      "execution_count": 25,
      "outputs": []
    },
    {
      "cell_type": "code",
      "source": [
        "t1 = TestDoc()\n",
        "t1.test_equal()"
      ],
      "metadata": {
        "colab": {
          "base_uri": "https://localhost:8080/",
          "height": 328
        },
        "id": "q_duS0NoKhRF",
        "outputId": "4ed4fb06-37b3-41bb-e46d-37231dcf29f2"
      },
      "execution_count": 27,
      "outputs": [
        {
          "output_type": "error",
          "ename": "AssertionError",
          "evalue": "ignored",
          "traceback": [
            "\u001b[0;31m---------------------------------------------------------------------------\u001b[0m",
            "\u001b[0;31mAssertionError\u001b[0m                            Traceback (most recent call last)",
            "\u001b[0;32m<ipython-input-27-5b6fc8d8b4f6>\u001b[0m in \u001b[0;36m<module>\u001b[0;34m\u001b[0m\n\u001b[1;32m      1\u001b[0m \u001b[0mt1\u001b[0m \u001b[0;34m=\u001b[0m \u001b[0mTestDoc\u001b[0m\u001b[0;34m(\u001b[0m\u001b[0;34m)\u001b[0m\u001b[0;34m\u001b[0m\u001b[0;34m\u001b[0m\u001b[0m\n\u001b[0;32m----> 2\u001b[0;31m \u001b[0mt1\u001b[0m\u001b[0;34m.\u001b[0m\u001b[0mtest_equal\u001b[0m\u001b[0;34m(\u001b[0m\u001b[0;34m)\u001b[0m\u001b[0;34m\u001b[0m\u001b[0;34m\u001b[0m\u001b[0m\n\u001b[0m",
            "\u001b[0;32m<ipython-input-25-d910525d19e7>\u001b[0m in \u001b[0;36mtest_equal\u001b[0;34m(self)\u001b[0m\n\u001b[1;32m      1\u001b[0m \u001b[0;32mclass\u001b[0m \u001b[0mTestDoc\u001b[0m\u001b[0;34m(\u001b[0m\u001b[0munittest\u001b[0m\u001b[0;34m.\u001b[0m\u001b[0mTestCase\u001b[0m\u001b[0;34m)\u001b[0m\u001b[0;34m:\u001b[0m\u001b[0;34m\u001b[0m\u001b[0;34m\u001b[0m\u001b[0m\n\u001b[1;32m      2\u001b[0m   \u001b[0;32mdef\u001b[0m \u001b[0mtest_equal\u001b[0m\u001b[0;34m(\u001b[0m\u001b[0mself\u001b[0m\u001b[0;34m)\u001b[0m\u001b[0;34m:\u001b[0m\u001b[0;34m\u001b[0m\u001b[0;34m\u001b[0m\u001b[0m\n\u001b[0;32m----> 3\u001b[0;31m     \u001b[0mself\u001b[0m\u001b[0;34m.\u001b[0m\u001b[0massertEqual\u001b[0m\u001b[0;34m(\u001b[0m\u001b[0mdoc1\u001b[0m\u001b[0;34m,\u001b[0m \u001b[0mdoc2\u001b[0m\u001b[0;34m)\u001b[0m\u001b[0;34m\u001b[0m\u001b[0;34m\u001b[0m\u001b[0m\n\u001b[0m\u001b[1;32m      4\u001b[0m \u001b[0;34m\u001b[0m\u001b[0m\n\u001b[1;32m      5\u001b[0m   \u001b[0;32mdef\u001b[0m \u001b[0mtest_not_equal\u001b[0m\u001b[0;34m(\u001b[0m\u001b[0mself\u001b[0m\u001b[0;34m)\u001b[0m\u001b[0;34m:\u001b[0m\u001b[0;34m\u001b[0m\u001b[0;34m\u001b[0m\u001b[0m\n",
            "\u001b[0;32m/usr/lib/python3.7/unittest/case.py\u001b[0m in \u001b[0;36massertEqual\u001b[0;34m(self, first, second, msg)\u001b[0m\n\u001b[1;32m    850\u001b[0m         \"\"\"\n\u001b[1;32m    851\u001b[0m         \u001b[0massertion_func\u001b[0m \u001b[0;34m=\u001b[0m \u001b[0mself\u001b[0m\u001b[0;34m.\u001b[0m\u001b[0m_getAssertEqualityFunc\u001b[0m\u001b[0;34m(\u001b[0m\u001b[0mfirst\u001b[0m\u001b[0;34m,\u001b[0m \u001b[0msecond\u001b[0m\u001b[0;34m)\u001b[0m\u001b[0;34m\u001b[0m\u001b[0;34m\u001b[0m\u001b[0m\n\u001b[0;32m--> 852\u001b[0;31m         \u001b[0massertion_func\u001b[0m\u001b[0;34m(\u001b[0m\u001b[0mfirst\u001b[0m\u001b[0;34m,\u001b[0m \u001b[0msecond\u001b[0m\u001b[0;34m,\u001b[0m \u001b[0mmsg\u001b[0m\u001b[0;34m=\u001b[0m\u001b[0mmsg\u001b[0m\u001b[0;34m)\u001b[0m\u001b[0;34m\u001b[0m\u001b[0;34m\u001b[0m\u001b[0m\n\u001b[0m\u001b[1;32m    853\u001b[0m \u001b[0;34m\u001b[0m\u001b[0m\n\u001b[1;32m    854\u001b[0m     \u001b[0;32mdef\u001b[0m \u001b[0massertNotEqual\u001b[0m\u001b[0;34m(\u001b[0m\u001b[0mself\u001b[0m\u001b[0;34m,\u001b[0m \u001b[0mfirst\u001b[0m\u001b[0;34m,\u001b[0m \u001b[0msecond\u001b[0m\u001b[0;34m,\u001b[0m \u001b[0mmsg\u001b[0m\u001b[0;34m=\u001b[0m\u001b[0;32mNone\u001b[0m\u001b[0;34m)\u001b[0m\u001b[0;34m:\u001b[0m\u001b[0;34m\u001b[0m\u001b[0;34m\u001b[0m\u001b[0m\n",
            "\u001b[0;32m/usr/lib/python3.7/unittest/case.py\u001b[0m in \u001b[0;36m_baseAssertEqual\u001b[0;34m(self, first, second, msg)\u001b[0m\n\u001b[1;32m    843\u001b[0m             \u001b[0mstandardMsg\u001b[0m \u001b[0;34m=\u001b[0m \u001b[0;34m'%s != %s'\u001b[0m \u001b[0;34m%\u001b[0m \u001b[0m_common_shorten_repr\u001b[0m\u001b[0;34m(\u001b[0m\u001b[0mfirst\u001b[0m\u001b[0;34m,\u001b[0m \u001b[0msecond\u001b[0m\u001b[0;34m)\u001b[0m\u001b[0;34m\u001b[0m\u001b[0;34m\u001b[0m\u001b[0m\n\u001b[1;32m    844\u001b[0m             \u001b[0mmsg\u001b[0m \u001b[0;34m=\u001b[0m \u001b[0mself\u001b[0m\u001b[0;34m.\u001b[0m\u001b[0m_formatMessage\u001b[0m\u001b[0;34m(\u001b[0m\u001b[0mmsg\u001b[0m\u001b[0;34m,\u001b[0m \u001b[0mstandardMsg\u001b[0m\u001b[0;34m)\u001b[0m\u001b[0;34m\u001b[0m\u001b[0;34m\u001b[0m\u001b[0m\n\u001b[0;32m--> 845\u001b[0;31m             \u001b[0;32mraise\u001b[0m \u001b[0mself\u001b[0m\u001b[0;34m.\u001b[0m\u001b[0mfailureException\u001b[0m\u001b[0;34m(\u001b[0m\u001b[0mmsg\u001b[0m\u001b[0;34m)\u001b[0m\u001b[0;34m\u001b[0m\u001b[0;34m\u001b[0m\u001b[0m\n\u001b[0m\u001b[1;32m    846\u001b[0m \u001b[0;34m\u001b[0m\u001b[0m\n\u001b[1;32m    847\u001b[0m     \u001b[0;32mdef\u001b[0m \u001b[0massertEqual\u001b[0m\u001b[0;34m(\u001b[0m\u001b[0mself\u001b[0m\u001b[0;34m,\u001b[0m \u001b[0mfirst\u001b[0m\u001b[0;34m,\u001b[0m \u001b[0msecond\u001b[0m\u001b[0;34m,\u001b[0m \u001b[0mmsg\u001b[0m\u001b[0;34m=\u001b[0m\u001b[0;32mNone\u001b[0m\u001b[0;34m)\u001b[0m\u001b[0;34m:\u001b[0m\u001b[0;34m\u001b[0m\u001b[0;34m\u001b[0m\u001b[0m\n",
            "\u001b[0;31mAssertionError\u001b[0m: Doc(string='Technology') != Doc(string='Online')"
          ]
        }
      ]
    },
    {
      "cell_type": "code",
      "source": [
        "t1.test_not_equal()"
      ],
      "metadata": {
        "id": "wCS5kAWAKmqR"
      },
      "execution_count": 28,
      "outputs": []
    },
    {
      "cell_type": "markdown",
      "source": [
        "### Exercise 5\n",
        "The implementation of the Employee class is given:"
      ],
      "metadata": {
        "id": "Wk3w8PycNV13"
      }
    },
    {
      "cell_type": "code",
      "source": [
        "class Employee:\n",
        "    \"\"\"A simple class that describes an employee of the company.\"\"\"\n",
        "    tax_rate = 0.17\n",
        "    bonus_rate = 0.10\n",
        " \n",
        "    def __init__(self, first_name, last_name, salary):\n",
        "        self.first_name = first_name\n",
        "        self.last_name = last_name\n",
        "        self.salary = salary\n",
        " \n",
        "    def __str__(self):\n",
        "        return f'{self.first_name} {self.last_name}'\n",
        " \n",
        "    @property\n",
        "    def email(self):\n",
        "        return f'{self.first_name.lower()}.{self.last_name.lower()}@mail.com'\n",
        " \n",
        "    @property\n",
        "    def tax(self):\n",
        "        return round(self.salary * self.tax_rate, 2)\n",
        " \n",
        "    def apply_bonus(self):\n",
        "        self.salary = int(self.salary * (1 + self.bonus_rate))"
      ],
      "metadata": {
        "id": "4D84kc5ONRZm"
      },
      "execution_count": 29,
      "outputs": []
    },
    {
      "cell_type": "markdown",
      "source": [
        "Using the unittest framework create a TestEmployee class that inherits from the unittest.TestCase class that implements three test methods:\n",
        "```\n",
        "test_has_email_attr()\n",
        "```\n",
        "checks whether the Employee class has the attribute email, if the attribute is missing, return the message:\n",
        "\n",
        "\n",
        "'The Employee class does not have an email attribute.'\n",
        "\n",
        "```\n",
        "test_has_tax_attr()\n",
        "```\n",
        "checks whether the Employee class has the attribute tax, if the attribute is missing, return the message:\n",
        "\n",
        "\n",
        "'The Employee class does not have a tax attribute.'\n",
        "\n",
        "```\n",
        "test_has_apply_bonus()\n",
        "```\n",
        "checks whether the Employee class has the attribute apply_bonus, if the attribute is missing, return the message:\n",
        "\n",
        "\n",
        "'The Employee class does not have an apply_bonus attribute.'\n",
        "\n",
        "\n",
        "Tip: Use the built-in function hasattr() and the assertTrue() assertion method.\n",
        "\n",
        "\n",
        "\n",
        "You only need to implement the class and the appropriate test methods. During the solution verification, the tests are run and in case of any errors, the test report will be printed to the console."
      ],
      "metadata": {
        "id": "CSc2vv7bK4ZI"
      }
    },
    {
      "cell_type": "code",
      "source": [
        "class TestEmployee(unittest.TestCase):\n",
        "  def test_has_email_attr(self):  \n",
        "    msg = 'The Employee class does not have an email attribute.'\n",
        "    self.assertTrue(hasattr(Employee, 'email'), msg)\n",
        "  \n",
        "  def test_has_tax_attr(self):\n",
        "    msg = 'The Employee class does not have a tax attribute.'\n",
        "    self.assertTrue(hasattr(Employee, 'tax'))\n",
        "\n",
        "  def test_has_apply_bonus(self):\n",
        "    msg = 'The Employee class does not have a apply_bonus attribute.'\n",
        "    self.assertTrue(hasattr(Employee, 'apply_bonus'))"
      ],
      "metadata": {
        "id": "a-fTNKpnKyqf"
      },
      "execution_count": 31,
      "outputs": []
    },
    {
      "cell_type": "markdown",
      "source": [
        "### Exercise 6\n",
        "The implementation of the Employee class is given:\n",
        "\n",
        "Using the unittest framework create a TestEmployee class that inherits from the unittest.TestCase class that implements two test methods:\n",
        "```\n",
        "test_has_email_attr()\n",
        "```\n",
        "checks whether the Employee class has the attribute email, if the attribute is missing, return the message:\n",
        "\n",
        "\n",
        "'The Employee class does not have an email attribute.'\n",
        "\n",
        "```\n",
        "test_has_email_property()\n",
        "```\n",
        "checks if the email attribute of the Employee class is of the type property. Use the assertIsInstance() method for this purpose.\n",
        "\n",
        "You only need to implement the class and the appropriate test methods. During the solution verification, the tests are run and in case of any errors, the test report will be printed to the console.\n",
        "\n"
      ],
      "metadata": {
        "id": "pTCM7XGIO9nP"
      }
    },
    {
      "cell_type": "code",
      "source": [
        "class TestEmployee(unittest.TestCase):\n",
        "  def test_has_email_attr(self):\n",
        "    msg = 'The Employee class does not have an email attribute'\n",
        "    self.assertTrue(hasattr(Employee, 'email'), msg)\n",
        "  \n",
        "  def test_has_email_property(self):\n",
        "    self.assertIsInstance(Employee.email, property)"
      ],
      "metadata": {
        "id": "CqC5mR1KOhc9"
      },
      "execution_count": 33,
      "outputs": []
    },
    {
      "cell_type": "markdown",
      "source": [
        "### Exercise 7\n",
        "An implementation of the StringListOnly class is given:\n",
        "\n",
        "\n",
        "```\n",
        "class StringListOnly(list):\n",
        " \n",
        "    def append(self, string):\n",
        "        if not isinstance(string, str):\n",
        "            raise TypeError(\n",
        "                'Only object of type str can be added to the list.'\n",
        "            )\n",
        "        super().append(string)\n",
        "```\n",
        "\n",
        "Only objects of type str can be added to the list of type StringListOnly using the append() method.\n",
        "\n",
        "Using the unittest framework create a TestStringListOnly class that inherits from the unittest.TestCase class that implements two test methods:\n",
        "```\n",
        "test_append_string()\n",
        "```\n",
        "checks if we can add an object of the str type to the StringListOnly instance using the append() method. Use the assertIn() method for this purpose.\n",
        "\n",
        "```\n",
        "test_append_not_string_should_raise_error()\n",
        "```\n",
        "checks if TypeError is raised when trying to add an instance of type list. To do this, use the assertRaises() method.\n",
        "\n",
        "checks if TypeError is raised when trying to add an instance of type bool. To do this, use the assertRaises() method.\n",
        "\n",
        "\n",
        "\n",
        "You only need to implement the class and the appropriate test methods. During the solution verification, the tests are run and in case of any errors, the test report will be printed to the console."
      ],
      "metadata": {
        "id": "MwZ17VHMQGrO"
      }
    },
    {
      "cell_type": "code",
      "source": [
        "class StringListOnly(list):\n",
        " \n",
        "    def append(self, string):\n",
        "        if not isinstance(string, str):\n",
        "            raise TypeError(\n",
        "                'Only object of type str can be added to the list.'\n",
        "            )\n",
        "        super().append(string)\n"
      ],
      "metadata": {
        "id": "mQ4w7eZ8QBHS"
      },
      "execution_count": 34,
      "outputs": []
    },
    {
      "cell_type": "code",
      "source": [
        "class TestStringListOnly(unittest.TestCase):\n",
        "  def test_append_string(self):\n",
        "    slo = StringListOnly()\n",
        "    str1 = 'big_data'\n",
        "    slo.append(str1)\n",
        "    self.assertIn(str1, slo)\n",
        "\n",
        "  def test_append_not_string_should_raise_error(self):\n",
        "    slo = StringListOnly()\n",
        "    not_string_1 = ['big_data']\n",
        "    not_string_2 = True\n",
        "    self.assertRaises(TypeError, slo.append, not_string_1)\n",
        "    self.assertRaises(TypeError, slo.append, not_string_2)"
      ],
      "metadata": {
        "id": "uuQoIwgfQz1o"
      },
      "execution_count": 35,
      "outputs": []
    },
    {
      "cell_type": "markdown",
      "source": [
        "### Exercise 8\n",
        "An implementation of the StringListOnly class is given:\n",
        "```\n",
        "class StringListOnly(list):\n",
        " \n",
        "    def append(self, string):\n",
        "        if not isinstance(string, str):\n",
        "            raise TypeError(\n",
        "                'Only object of type str can be added to the list.'\n",
        "            )\n",
        "        super().append(string)\n",
        "```\n",
        "Only objects of type str can be added to the list of type StringListOnly using the append() method.\n",
        "\n",
        "Using the unittest framework create a TestStringListOnly class that inherits from the unittest.TestCase class that implements the test method:\n",
        "```\n",
        "test_slo_is_instance()\n",
        "```\n",
        "checks if instance slo = StringListOnly() is an instance of the StringListOnly class. Use the assertIsInstance() method.\n",
        "\n",
        "checks if instance slo = StringListOnly() is an instance of the list class. Use the assertIsInstance() method.\n",
        "\n",
        "\n",
        "\n",
        "You only need to implement the class and the appropriate test methods. During the solution verification, the tests are run and in case of any errors, the test report will be printed to the console.\n",
        "\n"
      ],
      "metadata": {
        "id": "PnjVzuaRVWvU"
      }
    },
    {
      "cell_type": "code",
      "source": [
        "class TestStringListOnly(unittest.TestCase):\n",
        "  def test_slo_is_instance(self):\n",
        "    slo = StringListOnly()\n",
        "    self.assertInstance(slo, StringListOnly)\n",
        "    self.assertIsInstance(slo, list)"
      ],
      "metadata": {
        "id": "BnTzMrLIR73E"
      },
      "execution_count": 36,
      "outputs": []
    },
    {
      "cell_type": "code",
      "source": [],
      "metadata": {
        "id": "Oo7_WcJSWNoF"
      },
      "execution_count": null,
      "outputs": []
    }
  ]
}