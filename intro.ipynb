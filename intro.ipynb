{
  "nbformat": 4,
  "nbformat_minor": 0,
  "metadata": {
    "colab": {
      "provenance": [],
      "collapsed_sections": [],
      "authorship_tag": "ABX9TyNs0in9EwF0DRgBgI2WRLap",
      "include_colab_link": true
    },
    "kernelspec": {
      "name": "python3",
      "display_name": "Python 3"
    },
    "language_info": {
      "name": "python"
    }
  },
  "cells": [
    {
      "cell_type": "markdown",
      "metadata": {
        "id": "view-in-github",
        "colab_type": "text"
      },
      "source": [
        "<a href=\"https://colab.research.google.com/github/rpalsaxena/unit-testing/blob/main/intro.ipynb\" target=\"_parent\"><img src=\"https://colab.research.google.com/assets/colab-badge.svg\" alt=\"Open In Colab\"/></a>"
      ]
    },
    {
      "cell_type": "code",
      "execution_count": null,
      "metadata": {
        "colab": {
          "base_uri": "https://localhost:8080/"
        },
        "id": "0Q1RqwjwAdnp",
        "outputId": "d24f5d51-871e-4f78-b5cf-6a4f49e6af49"
      },
      "outputs": [
        {
          "output_type": "stream",
          "name": "stdout",
          "text": [
            "Hello Github\n"
          ]
        }
      ],
      "source": [
        "print(\"Hello Github\")"
      ]
    },
    {
      "cell_type": "code",
      "source": [
        "import sys\n"
      ],
      "metadata": {
        "id": "9Jz36J45AouE"
      },
      "execution_count": null,
      "outputs": []
    },
    {
      "cell_type": "code",
      "source": [
        "sys"
      ],
      "metadata": {
        "colab": {
          "base_uri": "https://localhost:8080/"
        },
        "id": "qfTRU6WaDd1V",
        "outputId": "724ed7a7-12f9-4355-a747-cdcecc005c24"
      },
      "execution_count": null,
      "outputs": [
        {
          "output_type": "execute_result",
          "data": {
            "text/plain": [
              "<module 'sys' (built-in)>"
            ]
          },
          "metadata": {},
          "execution_count": 3
        }
      ]
    },
    {
      "cell_type": "code",
      "source": [
        "sys.version"
      ],
      "metadata": {
        "colab": {
          "base_uri": "https://localhost:8080/",
          "height": 35
        },
        "id": "eGUafmq6DkSz",
        "outputId": "3d98cfab-aead-433e-9da8-7c23bc87f577"
      },
      "execution_count": null,
      "outputs": [
        {
          "output_type": "execute_result",
          "data": {
            "text/plain": [
              "'3.7.14 (default, Sep  8 2022, 00:06:44) \\n[GCC 7.5.0]'"
            ],
            "application/vnd.google.colaboratory.intrinsic+json": {
              "type": "string"
            }
          },
          "metadata": {},
          "execution_count": 7
        }
      ]
    },
    {
      "cell_type": "markdown",
      "source": [
        "### Exercise 1\n",
        "Assert the is_italy variable using the assert statement:\n",
        "\n"
      ],
      "metadata": {
        "id": "TA8p1SV3EGTr"
      }
    },
    {
      "cell_type": "code",
      "source": [
        "countries = ['POL', 'ENG', 'GER', 'USA', 'ITA']\n"
      ],
      "metadata": {
        "id": "a25OI_rjDtoZ"
      },
      "execution_count": null,
      "outputs": []
    },
    {
      "cell_type": "code",
      "source": [
        "is_italy = 'ITA1' in countries\n",
        "assert is_italy"
      ],
      "metadata": {
        "colab": {
          "base_uri": "https://localhost:8080/",
          "height": 183
        },
        "id": "gHShctywECGV",
        "outputId": "ee90420c-597b-4783-992c-bac65c00abeb"
      },
      "execution_count": null,
      "outputs": [
        {
          "output_type": "error",
          "ename": "AssertionError",
          "evalue": "ignored",
          "traceback": [
            "\u001b[0;31m---------------------------------------------------------------------------\u001b[0m",
            "\u001b[0;31mAssertionError\u001b[0m                            Traceback (most recent call last)",
            "\u001b[0;32m<ipython-input-16-4616da813de8>\u001b[0m in \u001b[0;36m<module>\u001b[0;34m\u001b[0m\n\u001b[1;32m      1\u001b[0m \u001b[0mis_italy\u001b[0m \u001b[0;34m=\u001b[0m \u001b[0;34m'ITA1'\u001b[0m \u001b[0;32min\u001b[0m \u001b[0mcountries\u001b[0m\u001b[0;34m\u001b[0m\u001b[0;34m\u001b[0m\u001b[0m\n\u001b[0;32m----> 2\u001b[0;31m \u001b[0;32massert\u001b[0m \u001b[0mis_italy\u001b[0m\u001b[0;34m\u001b[0m\u001b[0;34m\u001b[0m\u001b[0m\n\u001b[0m",
            "\u001b[0;31mAssertionError\u001b[0m: "
          ]
        }
      ]
    },
    {
      "cell_type": "code",
      "source": [
        "is_italy = 'ITA' in countries\n",
        "assert is_italy"
      ],
      "metadata": {
        "id": "7ZCxv2ieEQ_v"
      },
      "execution_count": null,
      "outputs": []
    },
    {
      "cell_type": "markdown",
      "source": [
        "### Exercise 2\n",
        "Assert the is_canada variable using the assert statement:\n",
        "```\n",
        "countries = ['POL', 'ENG', 'GER', 'USA', 'ITA']\n",
        "is_canada = 'CAN' in countries\n",
        "```\n",
        "\n",
        "Expected Action: Raising `AssertionError`.\n",
        "\n"
      ],
      "metadata": {
        "id": "KsRcPXGCEjVe"
      }
    },
    {
      "cell_type": "code",
      "source": [
        "is_canada = 'CAN' in countries\n",
        "\n",
        "assert is_canada"
      ],
      "metadata": {
        "colab": {
          "base_uri": "https://localhost:8080/",
          "height": 200
        },
        "id": "o6jBrcMGEcaz",
        "outputId": "28548605-9b79-4ce7-d380-5d22722f2429"
      },
      "execution_count": null,
      "outputs": [
        {
          "output_type": "error",
          "ename": "AssertionError",
          "evalue": "ignored",
          "traceback": [
            "\u001b[0;31m---------------------------------------------------------------------------\u001b[0m",
            "\u001b[0;31mAssertionError\u001b[0m                            Traceback (most recent call last)",
            "\u001b[0;32m<ipython-input-20-27af2cd7228b>\u001b[0m in \u001b[0;36m<module>\u001b[0;34m\u001b[0m\n\u001b[1;32m      1\u001b[0m \u001b[0mis_canada\u001b[0m \u001b[0;34m=\u001b[0m \u001b[0;34m'CAN'\u001b[0m \u001b[0;32min\u001b[0m \u001b[0mcountries\u001b[0m\u001b[0;34m\u001b[0m\u001b[0;34m\u001b[0m\u001b[0m\n\u001b[1;32m      2\u001b[0m \u001b[0;34m\u001b[0m\u001b[0m\n\u001b[0;32m----> 3\u001b[0;31m \u001b[0;32massert\u001b[0m \u001b[0mis_canada\u001b[0m\u001b[0;34m\u001b[0m\u001b[0;34m\u001b[0m\u001b[0m\n\u001b[0m",
            "\u001b[0;31mAssertionError\u001b[0m: "
          ]
        }
      ]
    },
    {
      "cell_type": "markdown",
      "source": [
        "### Exercise 3\n",
        "The implementation of the max_min_diff() function is given:\n",
        "```\n",
        "def max_min_diff(numbers):\n",
        "    return max(numbers) - min(numbers)\n",
        "```\n",
        "\n",
        "Modify the implementation of the max_min_diff() function. By using the assert statement inside this function, add the ability to check the length of the numbers argument before returning the result. If the length of the numbers object is 0 raise the AssertionError without any message. Otherwise, return the correct result.\n",
        "\n"
      ],
      "metadata": {
        "id": "aC3WGtRdE3dw"
      }
    },
    {
      "cell_type": "code",
      "source": [
        "def max_min_diff(numbers):\n",
        "  assert len(numbers) != 0\n",
        "  return max(numbers) - min(numbers)\n",
        "max_min_diff([1, 2, 3])\n",
        "\n",
        "max_min_diff([])"
      ],
      "metadata": {
        "colab": {
          "base_uri": "https://localhost:8080/",
          "height": 321
        },
        "id": "OVodM761Et1t",
        "outputId": "31746a5a-2a2b-4e82-db90-8b217b12e759"
      },
      "execution_count": null,
      "outputs": [
        {
          "output_type": "error",
          "ename": "AssertionError",
          "evalue": "ignored",
          "traceback": [
            "\u001b[0;31m---------------------------------------------------------------------------\u001b[0m",
            "\u001b[0;31mAssertionError\u001b[0m                            Traceback (most recent call last)",
            "\u001b[0;32m<ipython-input-22-bdbef18795ea>\u001b[0m in \u001b[0;36m<module>\u001b[0;34m\u001b[0m\n\u001b[1;32m      4\u001b[0m \u001b[0mmax_min_diff\u001b[0m\u001b[0;34m(\u001b[0m\u001b[0;34m[\u001b[0m\u001b[0;36m1\u001b[0m\u001b[0;34m,\u001b[0m \u001b[0;36m2\u001b[0m\u001b[0;34m,\u001b[0m \u001b[0;36m3\u001b[0m\u001b[0;34m]\u001b[0m\u001b[0;34m)\u001b[0m\u001b[0;34m\u001b[0m\u001b[0;34m\u001b[0m\u001b[0m\n\u001b[1;32m      5\u001b[0m \u001b[0;34m\u001b[0m\u001b[0m\n\u001b[0;32m----> 6\u001b[0;31m \u001b[0mmax_min_diff\u001b[0m\u001b[0;34m(\u001b[0m\u001b[0;34m[\u001b[0m\u001b[0;34m]\u001b[0m\u001b[0;34m)\u001b[0m\u001b[0;34m\u001b[0m\u001b[0;34m\u001b[0m\u001b[0m\n\u001b[0m",
            "\u001b[0;32m<ipython-input-22-bdbef18795ea>\u001b[0m in \u001b[0;36mmax_min_diff\u001b[0;34m(numbers)\u001b[0m\n\u001b[1;32m      1\u001b[0m \u001b[0;32mdef\u001b[0m \u001b[0mmax_min_diff\u001b[0m\u001b[0;34m(\u001b[0m\u001b[0mnumbers\u001b[0m\u001b[0;34m)\u001b[0m\u001b[0;34m:\u001b[0m\u001b[0;34m\u001b[0m\u001b[0;34m\u001b[0m\u001b[0m\n\u001b[0;32m----> 2\u001b[0;31m   \u001b[0;32massert\u001b[0m \u001b[0mlen\u001b[0m\u001b[0;34m(\u001b[0m\u001b[0mnumbers\u001b[0m\u001b[0;34m)\u001b[0m \u001b[0;34m!=\u001b[0m \u001b[0;36m0\u001b[0m\u001b[0;34m\u001b[0m\u001b[0;34m\u001b[0m\u001b[0m\n\u001b[0m\u001b[1;32m      3\u001b[0m   \u001b[0;32mreturn\u001b[0m \u001b[0mmax\u001b[0m\u001b[0;34m(\u001b[0m\u001b[0mnumbers\u001b[0m\u001b[0;34m)\u001b[0m \u001b[0;34m-\u001b[0m \u001b[0mmin\u001b[0m\u001b[0;34m(\u001b[0m\u001b[0mnumbers\u001b[0m\u001b[0;34m)\u001b[0m\u001b[0;34m\u001b[0m\u001b[0;34m\u001b[0m\u001b[0m\n\u001b[1;32m      4\u001b[0m \u001b[0mmax_min_diff\u001b[0m\u001b[0;34m(\u001b[0m\u001b[0;34m[\u001b[0m\u001b[0;36m1\u001b[0m\u001b[0;34m,\u001b[0m \u001b[0;36m2\u001b[0m\u001b[0;34m,\u001b[0m \u001b[0;36m3\u001b[0m\u001b[0;34m]\u001b[0m\u001b[0;34m)\u001b[0m\u001b[0;34m\u001b[0m\u001b[0;34m\u001b[0m\u001b[0m\n\u001b[1;32m      5\u001b[0m \u001b[0;34m\u001b[0m\u001b[0m\n",
            "\u001b[0;31mAssertionError\u001b[0m: "
          ]
        }
      ]
    },
    {
      "cell_type": "markdown",
      "source": [
        "### Exercise 4\n",
        "The implementation of the max_min_diff() function is given:\n",
        "```\n",
        "def max_min_diff(numbers):\n",
        "    return max(numbers) - min(numbers)\n",
        "```\n",
        "Modify the implementation of the max_min_diff() function. By using the assert statement inside this function, add the ability to check the length of the numbers argument before returning the result. If the length of the numbers object is 0 raise the AssertionError with message:\n",
        "`'The numbers object cannot be empty.'`\n",
        "\n",
        "Otherwise, it returns the correct result (the difference between the highest and lowest value for numbers).\n",
        "\n",
        "In case the module with the solution is run directly, call the max_min_diff() function passing an empty list.\n",
        "\n",
        "\n",
        "\n",
        "Tip: Use the conditional statement and the module's __name__ attribute for this:\n",
        "\n",
        "```\n",
        "if __name__ == '__main__':\n",
        "    do_something()\n",
        "```\n"
      ],
      "metadata": {
        "id": "8YSpm2xzFgqC"
      }
    },
    {
      "cell_type": "code",
      "source": [
        "def max_min_diff(numbers):\n",
        "  assert len(numbers) != 0, 'The numbers object cannot be empty.'\n",
        "  return max(numbers) - min(numbers)\n",
        "\n",
        "if __name__ == '__main__':\n",
        "  print(max_min_diff([1, 2, 3]))\n",
        "  print(max_min_diff([]))"
      ],
      "metadata": {
        "colab": {
          "base_uri": "https://localhost:8080/",
          "height": 339
        },
        "id": "Re_ZQHGZFV8o",
        "outputId": "1ec54c5f-f542-41ee-d7fc-48b800f24256"
      },
      "execution_count": null,
      "outputs": [
        {
          "output_type": "stream",
          "name": "stdout",
          "text": [
            "2\n"
          ]
        },
        {
          "output_type": "error",
          "ename": "AssertionError",
          "evalue": "ignored",
          "traceback": [
            "\u001b[0;31m---------------------------------------------------------------------------\u001b[0m",
            "\u001b[0;31mAssertionError\u001b[0m                            Traceback (most recent call last)",
            "\u001b[0;32m<ipython-input-24-593873508821>\u001b[0m in \u001b[0;36m<module>\u001b[0;34m\u001b[0m\n\u001b[1;32m      5\u001b[0m \u001b[0;32mif\u001b[0m \u001b[0m__name__\u001b[0m \u001b[0;34m==\u001b[0m \u001b[0;34m'__main__'\u001b[0m\u001b[0;34m:\u001b[0m\u001b[0;34m\u001b[0m\u001b[0;34m\u001b[0m\u001b[0m\n\u001b[1;32m      6\u001b[0m   \u001b[0mprint\u001b[0m\u001b[0;34m(\u001b[0m\u001b[0mmax_min_diff\u001b[0m\u001b[0;34m(\u001b[0m\u001b[0;34m[\u001b[0m\u001b[0;36m1\u001b[0m\u001b[0;34m,\u001b[0m \u001b[0;36m2\u001b[0m\u001b[0;34m,\u001b[0m \u001b[0;36m3\u001b[0m\u001b[0;34m]\u001b[0m\u001b[0;34m)\u001b[0m\u001b[0;34m)\u001b[0m\u001b[0;34m\u001b[0m\u001b[0;34m\u001b[0m\u001b[0m\n\u001b[0;32m----> 7\u001b[0;31m   \u001b[0mprint\u001b[0m\u001b[0;34m(\u001b[0m\u001b[0mmax_min_diff\u001b[0m\u001b[0;34m(\u001b[0m\u001b[0;34m[\u001b[0m\u001b[0;34m]\u001b[0m\u001b[0;34m)\u001b[0m\u001b[0;34m)\u001b[0m\u001b[0;34m\u001b[0m\u001b[0;34m\u001b[0m\u001b[0m\n\u001b[0m",
            "\u001b[0;32m<ipython-input-24-593873508821>\u001b[0m in \u001b[0;36mmax_min_diff\u001b[0;34m(numbers)\u001b[0m\n\u001b[1;32m      1\u001b[0m \u001b[0;32mdef\u001b[0m \u001b[0mmax_min_diff\u001b[0m\u001b[0;34m(\u001b[0m\u001b[0mnumbers\u001b[0m\u001b[0;34m)\u001b[0m\u001b[0;34m:\u001b[0m\u001b[0;34m\u001b[0m\u001b[0;34m\u001b[0m\u001b[0m\n\u001b[0;32m----> 2\u001b[0;31m   \u001b[0;32massert\u001b[0m \u001b[0mlen\u001b[0m\u001b[0;34m(\u001b[0m\u001b[0mnumbers\u001b[0m\u001b[0;34m)\u001b[0m \u001b[0;34m!=\u001b[0m \u001b[0;36m0\u001b[0m\u001b[0;34m,\u001b[0m \u001b[0;34m'The numbers object cannot be empty.'\u001b[0m\u001b[0;34m\u001b[0m\u001b[0;34m\u001b[0m\u001b[0m\n\u001b[0m\u001b[1;32m      3\u001b[0m   \u001b[0;32mreturn\u001b[0m \u001b[0mmax\u001b[0m\u001b[0;34m(\u001b[0m\u001b[0mnumbers\u001b[0m\u001b[0;34m)\u001b[0m \u001b[0;34m-\u001b[0m \u001b[0mmin\u001b[0m\u001b[0;34m(\u001b[0m\u001b[0mnumbers\u001b[0m\u001b[0;34m)\u001b[0m\u001b[0;34m\u001b[0m\u001b[0;34m\u001b[0m\u001b[0m\n\u001b[1;32m      4\u001b[0m \u001b[0;34m\u001b[0m\u001b[0m\n\u001b[1;32m      5\u001b[0m \u001b[0;32mif\u001b[0m \u001b[0m__name__\u001b[0m \u001b[0;34m==\u001b[0m \u001b[0;34m'__main__'\u001b[0m\u001b[0;34m:\u001b[0m\u001b[0;34m\u001b[0m\u001b[0;34m\u001b[0m\u001b[0m\n",
            "\u001b[0;31mAssertionError\u001b[0m: The numbers object cannot be empty."
          ]
        }
      ]
    },
    {
      "cell_type": "markdown",
      "source": [
        "### Exercise 5\n",
        "The following area() function is given, which returns the area of a rectangle (no argument validation).\n",
        "```\n",
        "def area(width, height):\n",
        "    return width * height\n",
        "```\n",
        "\n",
        "Assert the following function calls:\n",
        "```\n",
        "area(4, 10)\n",
        "area(5, 6)\n",
        "```\n",
        "with the appropriate values:\n",
        "\n",
        "```\n",
        "40\n",
        "30\n",
        "```\n",
        "\n"
      ],
      "metadata": {
        "id": "-YuI3HuvGoMF"
      }
    },
    {
      "cell_type": "code",
      "source": [
        "def area(width, height):\n",
        "  return width * height\n",
        "assert area(4, 10) == 40, 'Area incorrect'"
      ],
      "metadata": {
        "id": "V4HKNlA2Gc3D"
      },
      "execution_count": null,
      "outputs": []
    },
    {
      "cell_type": "code",
      "source": [
        "assert area(4, 10) == 30, 'Area incorrect'"
      ],
      "metadata": {
        "colab": {
          "base_uri": "https://localhost:8080/",
          "height": 165
        },
        "id": "TEh9r6dhHGV5",
        "outputId": "bee01f3e-9949-41ba-ea71-1012a4a0fbe4"
      },
      "execution_count": null,
      "outputs": [
        {
          "output_type": "error",
          "ename": "AssertionError",
          "evalue": "ignored",
          "traceback": [
            "\u001b[0;31m---------------------------------------------------------------------------\u001b[0m",
            "\u001b[0;31mAssertionError\u001b[0m                            Traceback (most recent call last)",
            "\u001b[0;32m<ipython-input-26-0eb7746d55b2>\u001b[0m in \u001b[0;36m<module>\u001b[0;34m\u001b[0m\n\u001b[0;32m----> 1\u001b[0;31m \u001b[0;32massert\u001b[0m \u001b[0marea\u001b[0m\u001b[0;34m(\u001b[0m\u001b[0;36m4\u001b[0m\u001b[0;34m,\u001b[0m \u001b[0;36m10\u001b[0m\u001b[0;34m)\u001b[0m \u001b[0;34m==\u001b[0m \u001b[0;36m30\u001b[0m\u001b[0;34m,\u001b[0m \u001b[0;34m'Area incorrect'\u001b[0m\u001b[0;34m\u001b[0m\u001b[0;34m\u001b[0m\u001b[0m\n\u001b[0m",
            "\u001b[0;31mAssertionError\u001b[0m: Area incorrect"
          ]
        }
      ]
    },
    {
      "cell_type": "markdown",
      "source": [
        "### Exercise 6\n",
        "The following area() function is given, which returns the area of a rectangle with additional argument validation:\n",
        "\n",
        "```\n",
        "def area(width, height):\n",
        "    \"\"\"The function returns the area of the rectangle.\"\"\"\n",
        " \n",
        "    if not (isinstance(width, int) and isinstance(height, int)):\n",
        "        raise TypeError(\n",
        "            'The width and height must be of type int.'\n",
        "        )\n",
        "    if not (width > 0 and height > 0):\n",
        "        raise ValueError(\n",
        "            'The width and height must be positive.'\n",
        "        )\n",
        "    return width * height\n",
        "```\n",
        "\n",
        "Assert the following function call:\n",
        "```\n",
        "area('5', '4')\n",
        "```\n",
        "with a value of 20.\n",
        "\n",
        "\n",
        "Expected Action: Raising `TypeError`.\n",
        "\n"
      ],
      "metadata": {
        "id": "pe7YAZj8HMoN"
      }
    },
    {
      "cell_type": "code",
      "source": [
        "def area(width, height):\n",
        "    \"\"\"The function returns the area of the rectangle.\"\"\"\n",
        "\n",
        "    if not (isinstance(width, int) and isinstance(height, int)):\n",
        "        raise TypeError(\n",
        "            'The width and height must be of type int.'\n",
        "        )\n",
        "    if not (width > 0 and height > 0):\n",
        "        raise ValueError(\n",
        "            'The width and height must be positive.'\n",
        "        )\n",
        "    return width * height"
      ],
      "metadata": {
        "id": "rfq1ejPtHH-p"
      },
      "execution_count": null,
      "outputs": []
    },
    {
      "cell_type": "code",
      "source": [
        "assert area('5', '4') == 20   #, 'TypeError'"
      ],
      "metadata": {
        "colab": {
          "base_uri": "https://localhost:8080/",
          "height": 287
        },
        "id": "I_J8x-TMH7Pe",
        "outputId": "6e0fefc7-fac3-4bc7-d30e-8c72ca1600dd"
      },
      "execution_count": null,
      "outputs": [
        {
          "output_type": "error",
          "ename": "TypeError",
          "evalue": "ignored",
          "traceback": [
            "\u001b[0;31m---------------------------------------------------------------------------\u001b[0m",
            "\u001b[0;31mTypeError\u001b[0m                                 Traceback (most recent call last)",
            "\u001b[0;32m<ipython-input-30-69fb8f49c788>\u001b[0m in \u001b[0;36m<module>\u001b[0;34m\u001b[0m\n\u001b[0;32m----> 1\u001b[0;31m \u001b[0;32massert\u001b[0m \u001b[0marea\u001b[0m\u001b[0;34m(\u001b[0m\u001b[0;34m'5'\u001b[0m\u001b[0;34m,\u001b[0m \u001b[0;34m'4'\u001b[0m\u001b[0;34m)\u001b[0m \u001b[0;34m==\u001b[0m \u001b[0;36m20\u001b[0m\u001b[0;31m#, 'TypeError'\u001b[0m\u001b[0;34m\u001b[0m\u001b[0;34m\u001b[0m\u001b[0m\n\u001b[0m",
            "\u001b[0;32m<ipython-input-27-9b5f160d00ab>\u001b[0m in \u001b[0;36marea\u001b[0;34m(width, height)\u001b[0m\n\u001b[1;32m      4\u001b[0m     \u001b[0;32mif\u001b[0m \u001b[0;32mnot\u001b[0m \u001b[0;34m(\u001b[0m\u001b[0misinstance\u001b[0m\u001b[0;34m(\u001b[0m\u001b[0mwidth\u001b[0m\u001b[0;34m,\u001b[0m \u001b[0mint\u001b[0m\u001b[0;34m)\u001b[0m \u001b[0;32mand\u001b[0m \u001b[0misinstance\u001b[0m\u001b[0;34m(\u001b[0m\u001b[0mheight\u001b[0m\u001b[0;34m,\u001b[0m \u001b[0mint\u001b[0m\u001b[0;34m)\u001b[0m\u001b[0;34m)\u001b[0m\u001b[0;34m:\u001b[0m\u001b[0;34m\u001b[0m\u001b[0;34m\u001b[0m\u001b[0m\n\u001b[1;32m      5\u001b[0m         raise TypeError(\n\u001b[0;32m----> 6\u001b[0;31m             \u001b[0;34m'The width and height must be of type int.'\u001b[0m\u001b[0;34m\u001b[0m\u001b[0;34m\u001b[0m\u001b[0m\n\u001b[0m\u001b[1;32m      7\u001b[0m         )\n\u001b[1;32m      8\u001b[0m     \u001b[0;32mif\u001b[0m \u001b[0;32mnot\u001b[0m \u001b[0;34m(\u001b[0m\u001b[0mwidth\u001b[0m \u001b[0;34m>\u001b[0m \u001b[0;36m0\u001b[0m \u001b[0;32mand\u001b[0m \u001b[0mheight\u001b[0m \u001b[0;34m>\u001b[0m \u001b[0;36m0\u001b[0m\u001b[0;34m)\u001b[0m\u001b[0;34m:\u001b[0m\u001b[0;34m\u001b[0m\u001b[0;34m\u001b[0m\u001b[0m\n",
            "\u001b[0;31mTypeError\u001b[0m: The width and height must be of type int."
          ]
        }
      ]
    },
    {
      "cell_type": "markdown",
      "source": [
        "### Exercise 7\n",
        "The following area() function is given which returns the area of a rectangle.\n",
        "\n",
        "Assert the following function call:\n",
        "```\n",
        "area(-4, 5)\n",
        "```\n",
        "with a value of 20. Note that the first argument is negative.\n",
        "Expected Action: Raising `ValueError.`\n",
        "\n"
      ],
      "metadata": {
        "id": "NoJEb-6EIT0_"
      }
    },
    {
      "cell_type": "code",
      "source": [
        "assert area(-4, 5) == 20"
      ],
      "metadata": {
        "colab": {
          "base_uri": "https://localhost:8080/",
          "height": 287
        },
        "id": "waaDIVwgIBJW",
        "outputId": "cc818eb2-a26c-4906-c365-63ef3f029096"
      },
      "execution_count": null,
      "outputs": [
        {
          "output_type": "error",
          "ename": "ValueError",
          "evalue": "ignored",
          "traceback": [
            "\u001b[0;31m---------------------------------------------------------------------------\u001b[0m",
            "\u001b[0;31mValueError\u001b[0m                                Traceback (most recent call last)",
            "\u001b[0;32m<ipython-input-37-1d7646502b04>\u001b[0m in \u001b[0;36m<module>\u001b[0;34m\u001b[0m\n\u001b[0;32m----> 1\u001b[0;31m \u001b[0;32massert\u001b[0m \u001b[0marea\u001b[0m\u001b[0;34m(\u001b[0m\u001b[0;34m-\u001b[0m\u001b[0;36m4\u001b[0m\u001b[0;34m,\u001b[0m \u001b[0;36m5\u001b[0m\u001b[0;34m)\u001b[0m \u001b[0;34m==\u001b[0m \u001b[0;36m20\u001b[0m\u001b[0;34m\u001b[0m\u001b[0;34m\u001b[0m\u001b[0m\n\u001b[0m",
            "\u001b[0;32m<ipython-input-36-9b5f160d00ab>\u001b[0m in \u001b[0;36marea\u001b[0;34m(width, height)\u001b[0m\n\u001b[1;32m      8\u001b[0m     \u001b[0;32mif\u001b[0m \u001b[0;32mnot\u001b[0m \u001b[0;34m(\u001b[0m\u001b[0mwidth\u001b[0m \u001b[0;34m>\u001b[0m \u001b[0;36m0\u001b[0m \u001b[0;32mand\u001b[0m \u001b[0mheight\u001b[0m \u001b[0;34m>\u001b[0m \u001b[0;36m0\u001b[0m\u001b[0;34m)\u001b[0m\u001b[0;34m:\u001b[0m\u001b[0;34m\u001b[0m\u001b[0;34m\u001b[0m\u001b[0m\n\u001b[1;32m      9\u001b[0m         raise ValueError(\n\u001b[0;32m---> 10\u001b[0;31m             \u001b[0;34m'The width and height must be positive.'\u001b[0m\u001b[0;34m\u001b[0m\u001b[0;34m\u001b[0m\u001b[0m\n\u001b[0m\u001b[1;32m     11\u001b[0m         )\n\u001b[1;32m     12\u001b[0m     \u001b[0;32mreturn\u001b[0m \u001b[0mwidth\u001b[0m \u001b[0;34m*\u001b[0m \u001b[0mheight\u001b[0m\u001b[0;34m\u001b[0m\u001b[0;34m\u001b[0m\u001b[0m\n",
            "\u001b[0;31mValueError\u001b[0m: The width and height must be positive."
          ]
        }
      ]
    },
    {
      "cell_type": "markdown",
      "source": [
        "### Exercise 8\n",
        "The calculate_tax() function is given (no argument validation):\n",
        "\n",
        "```\n",
        "def calculate_tax(amount, tax_rate, age):\n",
        "    \"\"\"The function returns the amount of income tax.\"\"\"\n",
        " \n",
        "    if age <= 18:\n",
        "        return int(min(amount * tax_rate, 5000))\n",
        "    elif age <= 65:\n",
        "        return int(amount * tax_rate)\n",
        "    else:\n",
        "        return int(min(amount * tax_rate, 8000))\n",
        "```\n",
        "\n",
        "Implement a function called `test_calculate_tax()` that asserts the following test cases:\n",
        "```\n",
        "calculate_tax(60000, 0.15, 10) == 5000\n",
        "calculate_tax(60000, 0.15, 18) == 5000\n",
        "calculate_tax(60000, 0.15, 19) == 9000\n",
        "calculate_tax(60000, 0.15, 65) == 9000\n",
        "calculate_tax(60000, 0.15, 66) == 8000\n",
        "```\n",
        "Then call test_calculate_tax() function.\n",
        "\n"
      ],
      "metadata": {
        "id": "Jc_SQRQNI0wd"
      }
    },
    {
      "cell_type": "code",
      "source": [
        "def calculate_tax(amount, tax_rate, age):\n",
        "    \"\"\"The function returns the amount of income tax.\"\"\"\n",
        "\n",
        "    if age <= 18:\n",
        "        return int(min(amount * tax_rate, 5000))\n",
        "    elif age <= 65:\n",
        "        return int(amount * tax_rate)\n",
        "    else:\n",
        "        return int(min(amount * tax_rate, 8000))\n",
        "\n",
        "def test_calculate_tax():\n",
        "  assert calculate_tax(60000, 0.15, 10) == 5000\n",
        "  assert calculate_tax(60000, 0.15, 18) == 5000\n",
        "  assert calculate_tax(60000, 0.15, 19) == 9000\n",
        "  assert calculate_tax(60000, 0.15, 65) == 9000\n",
        "  assert calculate_tax(60000, 0.15, 66) == 8000\n",
        "\n",
        "if __name__ == '__main__':\n",
        "  test_calculate_tax()"
      ],
      "metadata": {
        "id": "5HlgN09XI1fF"
      },
      "execution_count": null,
      "outputs": []
    },
    {
      "cell_type": "markdown",
      "source": [
        "### Exercise 9\n",
        "The calculate_tax() function is given (no argument validation):\n",
        "\n",
        "The function is supposed to work as follows:\n",
        "\n",
        "for age 18 or under, returns the minimum of the following two values:\n",
        "```\n",
        "amount * tax_rate\n",
        "5000\n",
        "```\n",
        "for age over 18 and age less than or equal to 65 returns:\n",
        "```\n",
        "amount * tax_rate\n",
        "```\n",
        "for the age over 65, it returns a minimum of the following two values:\n",
        "```\n",
        "amount * tax_rate\n",
        "8000\n",
        "```\n",
        "There are two bugs in the calculate_tax() function implementation. Try to correct these bugs so that the function passes the tests implemented in the test_calculate_tax() function.\n",
        "\n",
        "The test_calculate_tax() function asserts the following test cases:\n",
        "```\n",
        "calculate_tax(60000, 0.15, 10) == 5000\n",
        "calculate_tax(60000, 0.15, 18) == 5000\n",
        "calculate_tax(60000, 0.15, 19) == 9000\n",
        "calculate_tax(60000, 0.15, 65) == 9000\n",
        "calculate_tax(60000, 0.15, 66) == 8000\n",
        "```\n"
      ],
      "metadata": {
        "id": "QfvySIlRI0nD"
      }
    },
    {
      "cell_type": "code",
      "source": [
        "def test_calculate_tax():\n",
        "  assert calculate_tax(60000, 0.15, 10) == 5000\n",
        "  assert calculate_tax(60000, 0.15, 18) == 5000\n",
        "  assert calculate_tax(60000, 0.15, 19) == 9000\n",
        "  assert calculate_tax(60000, 0.15, 65) == 9000\n",
        "  assert calculate_tax(60000, 0.15, 66) == 8000"
      ],
      "metadata": {
        "id": "oUNS97mPIsoU"
      },
      "execution_count": null,
      "outputs": []
    },
    {
      "cell_type": "code",
      "source": [],
      "metadata": {
        "id": "_iNhXJRyKYcO"
      },
      "execution_count": null,
      "outputs": []
    }
  ]
}