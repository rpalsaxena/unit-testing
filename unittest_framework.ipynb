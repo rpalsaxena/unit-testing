{
  "nbformat": 4,
  "nbformat_minor": 0,
  "metadata": {
    "colab": {
      "provenance": [],
      "collapsed_sections": [],
      "authorship_tag": "ABX9TyMojRnwqKZIuOUtoqoTUn57",
      "include_colab_link": true
    },
    "kernelspec": {
      "name": "python3",
      "display_name": "Python 3"
    },
    "language_info": {
      "name": "python"
    }
  },
  "cells": [
    {
      "cell_type": "markdown",
      "metadata": {
        "id": "view-in-github",
        "colab_type": "text"
      },
      "source": [
        "<a href=\"https://colab.research.google.com/github/rpalsaxena/unit-testing/blob/main/unittest_framework.ipynb\" target=\"_parent\"><img src=\"https://colab.research.google.com/assets/colab-badge.svg\" alt=\"Open In Colab\"/></a>"
      ]
    },
    {
      "cell_type": "markdown",
      "source": [
        "### Exercise 1\n",
        "Using the unittest framework, create a TestSplitMethod class that inherits from the `unittest.TestCase` class and implements the following three tests:\n",
        "```\n",
        "test_split_by_default()\n",
        "```\n",
        "test that checks if the code 'Python Testing'.split() returns a list\n",
        "['Python', 'Testing']\n",
        "\n",
        "```\n",
        "test_split_by_comma()\n",
        "```\n",
        "test that checks if the code 'open,high,low,close'.split(',') returns a list ['open', 'high', 'low', 'close']\n",
        "```\n",
        "test_split_by_hash()\n",
        "```\n",
        "test that checks if the code 'summer#time#vibes'.split('#') returns a list ['summer', 'time', 'vibes']\n",
        "\n",
        "\n",
        "You only need to define the class and the appropriate tests. During the solution verification, the tests are run and in case of any errors, the test report will be printed to the console.\n",
        "\n"
      ],
      "metadata": {
        "id": "KIzJKcXSWnyG"
      }
    },
    {
      "cell_type": "code",
      "source": [
        "import unittest\n",
        "class TestSplitMethod(unittest.TestCase):\n",
        "\n",
        "  def test_split_by_default(self):\n",
        "    self.assertEqual('Python Testing'.split(), ['Python', 'Testing'])\n",
        "  \n",
        "  def test_split_by_comma(self):\n",
        "    actual = 'open,high,low,close'.split(',')\n",
        "    expected = ['open', 'high', 'low', 'close']\n",
        "    self.assertEqual(actual, expected)\n",
        "  \n",
        "  def test_split_by_hash(self):\n",
        "    actual = 'summer#time#vibes'.split(\"#\")\n",
        "    expected = ['summer', 'time', 'vibes']\n",
        "    self.assertEqual(actual, expected)"
      ],
      "metadata": {
        "id": "Pe3p_s7FXHlE"
      },
      "execution_count": 4,
      "outputs": []
    },
    {
      "cell_type": "markdown",
      "source": [
        "### Exercise 2\n",
        "Using the unittest framework, create a TestJoinMethod class that inherits from the unittest.TestCase class and implements the following three tests:\n",
        "```\n",
        "test_join_with_space()\n",
        "```\n",
        "test that checks if the code ' '.join(['Python', '3.8']) returns a list\n",
        "'Python 3.8'\n",
        "\n",
        "```\n",
        "test_join_with_comma()\n",
        "```\n",
        "test that checks if the code ','.join(['open', 'high', 'low', 'close']) returns a list 'open,high,low,close'\n",
        "\n",
        "```\n",
        "test_join_with_new_line_char()\n",
        "```\n",
        "test that checks if the code '\\n'.join(['open', 'high', 'low', 'close']) returns a list 'open\\nhigh\\nlow\\nclose'\n",
        "\n",
        "\n",
        "You only need to define the class and the appropriate tests. During the solution verification, the tests are run and in case of any errors, the test report will be printed to the console."
      ],
      "metadata": {
        "id": "KirQB0SwYi5N"
      }
    },
    {
      "cell_type": "code",
      "source": [
        "class TestJoinMethod(unittest.TestCase):\n",
        "  def test_join_with_space(self):\n",
        "    self.assertEqual(' '.join(['Python', '3.8']), 'Python 3.8')\n",
        "  \n",
        "  def test_join_with_comma(self):\n",
        "    joined = ','.join(['open', 'high', 'low', 'close'])\n",
        "    expected = 'open,high,low,close'\n",
        "    self.assertEqual(joined, expected)\n",
        "  \n",
        "  def test_join_with_new_line_char(self):\n",
        "    actual =  '\\n'.join(['open', 'high', 'low', 'close'])\n",
        "    expected = 'open\\nhigh\\nlow\\nclose'\n",
        "    self.assertEqual(actual, expected)"
      ],
      "metadata": {
        "id": "sI8RHOhoYsw3"
      },
      "execution_count": 5,
      "outputs": []
    },
    {
      "cell_type": "markdown",
      "source": [
        "### Exercise 3\n",
        "Using the unittest framework, the TestJoinMethod class was created. The class has the following three tests:\n",
        "```\n",
        "test_join_with_space()\n",
        "```\n",
        "test that checks if the code ' '.join(['Python', '3.8']) returns a list\n",
        "'Python 3.8'\n",
        "\n",
        "```\n",
        "test_join_with_comma()\n",
        "```\n",
        "test that checks if the code ','.join(['open', 'high', 'low', 'close']) returns a list 'open,high,low,close'\n",
        "\n",
        "```\n",
        "test_join_with_new_line_char()\n",
        "```\n",
        "test that checks if the code '\\n'.join(['open', 'high', 'low', 'close']) returns a list 'open\\nhigh\\nlow\\nclose'\n",
        "\n",
        "\n",
        "\n",
        "First, run all tests (check the solution by clicking the 'Check solution' button). Pay attention to the result. One of the tests was written incorrectly. Try to correct it and run the tests again.\n",
        "\n"
      ],
      "metadata": {
        "id": "Tn3bFz31Z41q"
      }
    },
    {
      "cell_type": "code",
      "source": [
        "class TestJoinMethod(unittest.TestCase):\n",
        "\n",
        "    def test_join_with_space(self):\n",
        "        self.assertEqual(' '.join(['Python', '3.8']), 'Python 3.8')\n",
        " \n",
        "    def test_join_with_comma(self):\n",
        "        actual = ','.join(['open', 'high', 'low', 'close'])\n",
        "        expected = 'open,high,low,close'\n",
        "        self.assertEqual(actual, expected)\n",
        " \n",
        "    def test_join_with_new_line_char(self):\n",
        "        actual = '\\n'.join(['open', 'high', 'low', 'close'])\n",
        "        expected = 'open\\nhigh\\nlow\\nclose'\n",
        "        self.assertEqual(actual, expected)\n"
      ],
      "metadata": {
        "id": "xL8uROvYZlZy"
      },
      "execution_count": 6,
      "outputs": []
    },
    {
      "cell_type": "code",
      "source": [
        "import unittest\n",
        "from collections import Counter\n",
        "class TestIsInstance(unittest.TestCase):\n",
        "\n",
        "    def test_case_1(self):\n",
        "        self.assertTrue(isinstance((), tuple))\n",
        "\n",
        "    def test_case_2(self):\n",
        "        self.assertTrue(isinstance([], list))\n",
        "\n",
        "    def test_case_3(self):\n",
        "        self.assertTrue(isinstance({}, dict))\n",
        "\n",
        "    def test_case_4(self):\n",
        "        cnt = Counter()\n",
        "        self.assertTrue(isinstance(cnt, Counter))\n",
        "\n",
        "    def test_case_5(self):\n",
        "        var1 = 4\n",
        "        self.assertTrue(isinstance(var1, int))\n",
        "        \n",
        "    def test_case_6(self):\n",
        "        var2 = 4,\n",
        "        self.assertTrue(isinstance(var2, tuple))"
      ],
      "metadata": {
        "id": "vFlsusdNZ3JU"
      },
      "execution_count": 7,
      "outputs": []
    },
    {
      "cell_type": "markdown",
      "source": [
        "### Exercise 5\n",
        "Using the unittest framework create a TestUpper class that inherits from the unittest.TestCase class and implements the following two tests:\n",
        "```\n",
        "test_upper()\n",
        "```\n",
        "test that checks if the code  'summer'.upper() returns string 'SUMMER'\n",
        "\n",
        "```\n",
        "test_is_upper()\n",
        "```\n",
        "test that checks if the code 'SUMMER'.isupper() returns the boolean value True\n",
        "\n",
        "test that checks if the code 'summer'.isupper() returns the boolean value False\n",
        "\n",
        "You only need to define the class and the appropriate tests. During the solution verification, the tests are run and in case of any errors, the test report will be printed to the console.\n",
        "\n"
      ],
      "metadata": {
        "id": "x_0aMKTAbMbK"
      }
    },
    {
      "cell_type": "code",
      "source": [
        "class TestUpper(unittest.TestCase):\n",
        "  def test_upper(self):\n",
        "    self.assertEqual('summer'.upper(), 'SUMMER')\n",
        "  \n",
        "  def test_is_upper(self):\n",
        "    self.assertTrue('SUMMER'.isupper())\n",
        "    self.assertFalse('summer'.isupper())"
      ],
      "metadata": {
        "id": "bkXxxSVubFYW"
      },
      "execution_count": 8,
      "outputs": []
    },
    {
      "cell_type": "markdown",
      "source": [
        "### Exercise 6\n",
        "Using the unittest framework create a TestLower class that inherits from the unittest.TestCase class and implements the following two tests:\n",
        "```\n",
        "test_lower()\n",
        "```\n",
        "test that checks if the code 'Joe.Smith@mail.com'.lower() returns string 'joe.smith@mail.com'\n",
        "\n",
        "```\n",
        "test_is_lower()\n",
        "```\n",
        "test that checks if the code 'joe.smith@mail.com'.islower() returns the boolean value True\n",
        "\n",
        "test that checks if the code 'Joe.Smith@mail.com'.islower() returns the boolean value False\n",
        "\n",
        "\n",
        "\n",
        "You only need to define the class and the appropriate tests. During the solution verification, the tests are run and in case of any errors, the test report will be printed to the console.\n",
        "\n"
      ],
      "metadata": {
        "id": "qxEv0liEb_sB"
      }
    },
    {
      "cell_type": "code",
      "source": [
        "class TestLower (unittest.TestCase):\n",
        "  def test_lower(self):\n",
        "    self.assertEqual('JoeSmith@gmail.com'.lower(), 'joesmith@gmail.com')\n",
        "  \n",
        "  def test_is_lower(self):\n",
        "    self.assertTrue('joe.smith@mail.com'.islower())\n",
        "\n",
        "    self.assertFalse('Joe.Smith@mail.com'.islower())    "
      ],
      "metadata": {
        "id": "pzOBdajEb-XR"
      },
      "execution_count": 9,
      "outputs": []
    },
    {
      "cell_type": "markdown",
      "source": [
        "### Exercise 7\n",
        "Using the unittest framework create two classes named: TestStartswithMethod and TestEndswithMethod that inherit from the unittest.TestCase class.\n",
        "\n",
        "- The TestStartswithMethod class implements two test methods:\n",
        "```\n",
        " test_startswith_one_letter()\n",
        "```\n",
        "  test that checks if the code 'unittest'.startswith('u') returns the boolean value True\n",
        "\n",
        "  test that checks if the code 'unittest'.startswith('U') returns the boolean value False\n",
        "\n",
        "  ```\n",
        "  test_startswith_four_letters()\n",
        "  ```\n",
        "  test that checks if the code 'http://www.e-smartdata.org/'.startswith('http') returns the boolean value True\n",
        "\n",
        "  test that checks if the code 'www.e-smartdata.org/'.startswith('http') returns the boolean value False\n"
      ],
      "metadata": {
        "id": "eWJW2P1GdB7A"
      }
    },
    {
      "cell_type": "code",
      "source": [
        "class TestStartswithMethod(unittest.TestCase):\n",
        "  def test_startswith_one_letter(self):\n",
        "    self.assertTrue('unittest'.startswith('u'))\n",
        "    self.assertFalse('unittest'.startswith('U'))\n",
        "  \n",
        "  def test_startswith_four_letters(self):\n",
        "    self.assertTrue('http://www.e-smartdata.org/'.startswith('http'))\n",
        "    self.assertFalse( 'www.e-smartdata.org/'.startswith('http'))"
      ],
      "metadata": {
        "id": "axNNFUFKch21"
      },
      "execution_count": 10,
      "outputs": []
    },
    {
      "cell_type": "markdown",
      "source": [
        "\n",
        "- The TestEndswithMethod class implements one test method:\n",
        "  ```\n",
        "  test_endswith_three_letter()\n",
        "  ```\n",
        "  test that checks if the code 'e-smartdata.org'.endswith('org') returns the boolean value True\n",
        "\n",
        "  test that checks if the code 'e-smartdata.org'.endswith('com') returns the boolean value False\n",
        "\n",
        "\n",
        "You only need to define classes and the appropriate test methods. During the solution verification, the tests are run and in case of any errors, the test report will be printed to the console.\n",
        "\n"
      ],
      "metadata": {
        "id": "UlwwhJqvgjan"
      }
    },
    {
      "cell_type": "code",
      "source": [
        "class  TestEndswithMethod (unittest.TestCase):\n",
        "  def test_endswith_three_letter(self):\n",
        "    self.assertTrue('e-smartdata.org'.endswith('org'))\n",
        "    self.assertFalse('e-smartdata.org'.endswith('com'))"
      ],
      "metadata": {
        "id": "asQ3l6dseGXi"
      },
      "execution_count": 11,
      "outputs": []
    },
    {
      "cell_type": "markdown",
      "source": [
        "### Exercise 8\n",
        "Using the unittest framework create three classes named: TestLstripMethod, TestStripMethod and TestRstripMethod that inherit from the unittest.TestCase class. Then add two test methods to each class, testing the behavior of the methods appropriately:\n",
        "\n",
        "```\n",
        "str.lstrip()\n",
        "str.strip()\n",
        "str.rstrip()\n",
        "```\n",
        "Select the names of the test methods and test cases as you see fit.\n",
        "\n"
      ],
      "metadata": {
        "id": "6Q7c2huBhIx7"
      }
    },
    {
      "cell_type": "code",
      "source": [
        "' price, volume    '.strip()"
      ],
      "metadata": {
        "colab": {
          "base_uri": "https://localhost:8080/",
          "height": 36
        },
        "id": "aYY_HREQYXf7",
        "outputId": "08ea9782-dded-4ef0-8002-cb9b86cbc510"
      },
      "execution_count": 12,
      "outputs": [
        {
          "output_type": "execute_result",
          "data": {
            "text/plain": [
              "'price, volume'"
            ],
            "application/vnd.google.colaboratory.intrinsic+json": {
              "type": "string"
            }
          },
          "metadata": {},
          "execution_count": 12
        }
      ]
    },
    {
      "cell_type": "code",
      "source": [
        "class TestLstripMethod(unittest.TestCase):\n",
        "  def test_lstrip_with_space(self):\n",
        "    self.assertEqual(' price, volume'.lstrip(), 'price, volume')\n",
        "  \n",
        "  def test_lstrip_with_newline(self):\n",
        "    self.assertEqual('\\n\\nprice,vol', 'price,vol')\n",
        " \n",
        "class TestStripMethod(unittest.TestCase):\n",
        "   def test_strip_with_space(self):\n",
        "     self.assertEqual('   price, volume   '.strip(), 'price, volume')\n",
        "\n",
        "   def test_strip_with_newline(self):\n",
        "     self.assertEqual('\\n\\n\\nprice, volume \\n\\n\\n'.strip('\\n'), 'price, volume ' )\n",
        "\n",
        " \n",
        "class TestRstripMethod(unittest.TestCase):\n",
        "   def test_rstrip_with_space(self):\n",
        "     self.assertEqual('   price, volume   '.rstrip(), '   price, volume')\n",
        "\n",
        "   def test_strip_with_newline(self):\n",
        "     self.assertEqual('\\n\\n\\nprice, volume \\n\\n\\n'.rstrip('\\n'), '\\n\\n\\nprice, volume' )"
      ],
      "metadata": {
        "id": "mTo1Ugtkg1BR"
      },
      "execution_count": 20,
      "outputs": []
    },
    {
      "cell_type": "code",
      "source": [
        "t1 = TestStripMethod()"
      ],
      "metadata": {
        "id": "nFqMiYgyiDco"
      },
      "execution_count": 22,
      "outputs": []
    },
    {
      "cell_type": "code",
      "source": [
        "t1.test_strip_with_space()"
      ],
      "metadata": {
        "id": "P7CSeVg_ZZZ7"
      },
      "execution_count": 23,
      "outputs": []
    },
    {
      "cell_type": "code",
      "source": [
        "t1.test_strip_with_newline()"
      ],
      "metadata": {
        "id": "huCt1s3_ZwmJ"
      },
      "execution_count": 24,
      "outputs": []
    },
    {
      "cell_type": "code",
      "source": [],
      "metadata": {
        "id": "cdwiR42IZz7b"
      },
      "execution_count": null,
      "outputs": []
    }
  ]
}